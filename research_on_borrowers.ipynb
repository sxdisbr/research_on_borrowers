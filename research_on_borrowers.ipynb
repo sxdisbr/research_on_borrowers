{
 "cells": [
  {
   "cell_type": "markdown",
   "id": "0dcd5729",
   "metadata": {},
   "source": [
    "# Research on the reliability of borrowers"
   ]
  },
  {
   "cell_type": "markdown",
   "id": "b3e282ba",
   "metadata": {},
   "source": [
    "This research try to resolve a question: does the civil status and the number of children affect when returning a credit? To answer this question to answer this question we have customer data from a bank.\n",
    "\n",
    "The results of the study will be taken into account when building a credit scoring model, a special system that evaluates the ability of a potential borrower to repay a loan to a bank."
   ]
  },
  {
   "cell_type": "code",
   "execution_count": null,
   "id": "3407bf2e",
   "metadata": {},
   "outputs": [],
   "source": []
  },
  {
   "cell_type": "code",
   "execution_count": 1,
   "id": "97f017c6",
   "metadata": {},
   "outputs": [],
   "source": [
    "# importing the library\n",
    "\n",
    "import pandas as pd"
   ]
  },
  {
   "cell_type": "code",
   "execution_count": 3,
   "id": "949848c2",
   "metadata": {},
   "outputs": [],
   "source": [
    "# reading the file\n",
    "\n",
    "data = pd.read_csv(r'C:\\Users\\pinos\\Downloads\\data.csv')"
   ]
  },
  {
   "cell_type": "markdown",
   "id": "082d30c2",
   "metadata": {},
   "source": [
    "# Data Overview"
   ]
  },
  {
   "cell_type": "code",
   "execution_count": 7,
   "id": "bc8ce74f",
   "metadata": {},
   "outputs": [
    {
     "data": {
      "text/html": [
       "<div>\n",
       "<style scoped>\n",
       "    .dataframe tbody tr th:only-of-type {\n",
       "        vertical-align: middle;\n",
       "    }\n",
       "\n",
       "    .dataframe tbody tr th {\n",
       "        vertical-align: top;\n",
       "    }\n",
       "\n",
       "    .dataframe thead th {\n",
       "        text-align: right;\n",
       "    }\n",
       "</style>\n",
       "<table border=\"1\" class=\"dataframe\">\n",
       "  <thead>\n",
       "    <tr style=\"text-align: right;\">\n",
       "      <th></th>\n",
       "      <th>children</th>\n",
       "      <th>days_employed</th>\n",
       "      <th>dob_years</th>\n",
       "      <th>education</th>\n",
       "      <th>education_id</th>\n",
       "      <th>family_status</th>\n",
       "      <th>family_status_id</th>\n",
       "      <th>gender</th>\n",
       "      <th>income_type</th>\n",
       "      <th>debt</th>\n",
       "      <th>total_income</th>\n",
       "      <th>purpose</th>\n",
       "    </tr>\n",
       "  </thead>\n",
       "  <tbody>\n",
       "    <tr>\n",
       "      <th>0</th>\n",
       "      <td>1</td>\n",
       "      <td>-8437.673028</td>\n",
       "      <td>42</td>\n",
       "      <td>высшее</td>\n",
       "      <td>0</td>\n",
       "      <td>женат / замужем</td>\n",
       "      <td>0</td>\n",
       "      <td>F</td>\n",
       "      <td>сотрудник</td>\n",
       "      <td>0</td>\n",
       "      <td>253875.639453</td>\n",
       "      <td>покупка жилья</td>\n",
       "    </tr>\n",
       "    <tr>\n",
       "      <th>1</th>\n",
       "      <td>1</td>\n",
       "      <td>-4024.803754</td>\n",
       "      <td>36</td>\n",
       "      <td>среднее</td>\n",
       "      <td>1</td>\n",
       "      <td>женат / замужем</td>\n",
       "      <td>0</td>\n",
       "      <td>F</td>\n",
       "      <td>сотрудник</td>\n",
       "      <td>0</td>\n",
       "      <td>112080.014102</td>\n",
       "      <td>приобретение автомобиля</td>\n",
       "    </tr>\n",
       "    <tr>\n",
       "      <th>2</th>\n",
       "      <td>0</td>\n",
       "      <td>-5623.422610</td>\n",
       "      <td>33</td>\n",
       "      <td>Среднее</td>\n",
       "      <td>1</td>\n",
       "      <td>женат / замужем</td>\n",
       "      <td>0</td>\n",
       "      <td>M</td>\n",
       "      <td>сотрудник</td>\n",
       "      <td>0</td>\n",
       "      <td>145885.952297</td>\n",
       "      <td>покупка жилья</td>\n",
       "    </tr>\n",
       "    <tr>\n",
       "      <th>3</th>\n",
       "      <td>3</td>\n",
       "      <td>-4124.747207</td>\n",
       "      <td>32</td>\n",
       "      <td>среднее</td>\n",
       "      <td>1</td>\n",
       "      <td>женат / замужем</td>\n",
       "      <td>0</td>\n",
       "      <td>M</td>\n",
       "      <td>сотрудник</td>\n",
       "      <td>0</td>\n",
       "      <td>267628.550329</td>\n",
       "      <td>дополнительное образование</td>\n",
       "    </tr>\n",
       "    <tr>\n",
       "      <th>4</th>\n",
       "      <td>0</td>\n",
       "      <td>340266.072047</td>\n",
       "      <td>53</td>\n",
       "      <td>среднее</td>\n",
       "      <td>1</td>\n",
       "      <td>гражданский брак</td>\n",
       "      <td>1</td>\n",
       "      <td>F</td>\n",
       "      <td>пенсионер</td>\n",
       "      <td>0</td>\n",
       "      <td>158616.077870</td>\n",
       "      <td>сыграть свадьбу</td>\n",
       "    </tr>\n",
       "  </tbody>\n",
       "</table>\n",
       "</div>"
      ],
      "text/plain": [
       "   children  days_employed  dob_years education  education_id  \\\n",
       "0         1   -8437.673028         42    высшее             0   \n",
       "1         1   -4024.803754         36   среднее             1   \n",
       "2         0   -5623.422610         33   Среднее             1   \n",
       "3         3   -4124.747207         32   среднее             1   \n",
       "4         0  340266.072047         53   среднее             1   \n",
       "\n",
       "      family_status  family_status_id gender income_type  debt   total_income  \\\n",
       "0   женат / замужем                 0      F   сотрудник     0  253875.639453   \n",
       "1   женат / замужем                 0      F   сотрудник     0  112080.014102   \n",
       "2   женат / замужем                 0      M   сотрудник     0  145885.952297   \n",
       "3   женат / замужем                 0      M   сотрудник     0  267628.550329   \n",
       "4  гражданский брак                 1      F   пенсионер     0  158616.077870   \n",
       "\n",
       "                      purpose  \n",
       "0               покупка жилья  \n",
       "1     приобретение автомобиля  \n",
       "2               покупка жилья  \n",
       "3  дополнительное образование  \n",
       "4             сыграть свадьбу  "
      ]
     },
     "metadata": {},
     "output_type": "display_data"
    }
   ],
   "source": [
    "# first look to the data\n",
    "\n",
    "display(data.head())"
   ]
  },
  {
   "cell_type": "code",
   "execution_count": 8,
   "id": "80307e59",
   "metadata": {},
   "outputs": [
    {
     "name": "stdout",
     "output_type": "stream",
     "text": [
      "<class 'pandas.core.frame.DataFrame'>\n",
      "RangeIndex: 21525 entries, 0 to 21524\n",
      "Data columns (total 12 columns):\n",
      " #   Column            Non-Null Count  Dtype  \n",
      "---  ------            --------------  -----  \n",
      " 0   children          21525 non-null  int64  \n",
      " 1   days_employed     19351 non-null  float64\n",
      " 2   dob_years         21525 non-null  int64  \n",
      " 3   education         21525 non-null  object \n",
      " 4   education_id      21525 non-null  int64  \n",
      " 5   family_status     21525 non-null  object \n",
      " 6   family_status_id  21525 non-null  int64  \n",
      " 7   gender            21525 non-null  object \n",
      " 8   income_type       21525 non-null  object \n",
      " 9   debt              21525 non-null  int64  \n",
      " 10  total_income      19351 non-null  float64\n",
      " 11  purpose           21525 non-null  object \n",
      "dtypes: float64(2), int64(5), object(5)\n",
      "memory usage: 1.6+ MB\n"
     ]
    }
   ],
   "source": [
    "# taking a look at the data types\n",
    "\n",
    "data.info()"
   ]
  },
  {
   "cell_type": "markdown",
   "id": "639bd7d0",
   "metadata": {},
   "source": [
    "# Data preprocessing"
   ]
  },
  {
   "cell_type": "code",
   "execution_count": 12,
   "id": "35731da8",
   "metadata": {},
   "outputs": [
    {
     "data": {
      "text/plain": [
       "children            0.000000\n",
       "days_employed       0.100999\n",
       "dob_years           0.000000\n",
       "education           0.000000\n",
       "education_id        0.000000\n",
       "family_status       0.000000\n",
       "family_status_id    0.000000\n",
       "gender              0.000000\n",
       "income_type         0.000000\n",
       "debt                0.000000\n",
       "total_income        0.100999\n",
       "purpose             0.000000\n",
       "dtype: float64"
      ]
     },
     "execution_count": 12,
     "metadata": {},
     "output_type": "execute_result"
    }
   ],
   "source": [
    "# counting the missing data\n",
    "\n",
    "data.isna().mean()"
   ]
  },
  {
   "cell_type": "markdown",
   "id": "eca82dd6",
   "metadata": {},
   "source": [
    "There are missing values in two columns. One of them is days_employed. I will process the omissions in this column in the next step. Another column with missing values is total_income that stores income data. The amount of income is most affected by the type of employment, so I need to fill in the gaps in this column with the median value for each type from the income_type column. For example, for a person with the employee employment type, the pass in the total_income column should be filled with the median income among all records with the same type"
   ]
  },
  {
   "cell_type": "code",
   "execution_count": 13,
   "id": "ceb65e01",
   "metadata": {},
   "outputs": [],
   "source": [
    "data['total_income'] = data[\n",
    "    \n",
    "    'total_income'\n",
    "\n",
    "].fillna(data.groupby([\n",
    "    \n",
    "    'income_type'])['total_income'].transform('median'))\n"
   ]
  },
  {
   "cell_type": "code",
   "execution_count": 14,
   "id": "06d87dbb",
   "metadata": {},
   "outputs": [
    {
     "data": {
      "text/plain": [
       "0        253875.639453\n",
       "1        112080.014102\n",
       "2        145885.952297\n",
       "3        267628.550329\n",
       "4        158616.077870\n",
       "             ...      \n",
       "21520    224791.862382\n",
       "21521    155999.806512\n",
       "21522     89672.561153\n",
       "21523    244093.050500\n",
       "21524     82047.418899\n",
       "Name: total_income, Length: 21525, dtype: float64"
      ]
     },
     "execution_count": 14,
     "metadata": {},
     "output_type": "execute_result"
    }
   ],
   "source": [
    "data['total_income']"
   ]
  },
  {
   "cell_type": "markdown",
   "id": "be07c3dc",
   "metadata": {},
   "source": [
    "# Abnormal values processing"
   ]
  },
  {
   "cell_type": "markdown",
   "id": "de6382f3",
   "metadata": {},
   "source": [
    "There may be anomalies in the data — values that do not reflect reality and appeared by some mistake. Such an anomalie will be the negative number of days of work experience in the days_employed column. For real data, this is normal. I process the values in this column and replace all negative values with positive ones using the abs() method."
   ]
  },
  {
   "cell_type": "code",
   "execution_count": 15,
   "id": "954429d2",
   "metadata": {},
   "outputs": [],
   "source": [
    "data['days_employed'] = data['days_employed'].abs()"
   ]
  },
  {
   "cell_type": "code",
   "execution_count": 16,
   "id": "e4dfb333",
   "metadata": {},
   "outputs": [
    {
     "data": {
      "text/plain": [
       "0          8437.673028\n",
       "1          4024.803754\n",
       "2          5623.422610\n",
       "3          4124.747207\n",
       "4        340266.072047\n",
       "             ...      \n",
       "21520      4529.316663\n",
       "21521    343937.404131\n",
       "21522      2113.346888\n",
       "21523      3112.481705\n",
       "21524      1984.507589\n",
       "Name: days_employed, Length: 21525, dtype: float64"
      ]
     },
     "execution_count": 16,
     "metadata": {},
     "output_type": "execute_result"
    }
   ],
   "source": [
    "data['days_employed']"
   ]
  },
  {
   "cell_type": "markdown",
   "id": "256ddc4a",
   "metadata": {},
   "source": [
    "For each type of employment, I am going to output the median value of the days_employed length of service in days."
   ]
  },
  {
   "cell_type": "code",
   "execution_count": 17,
   "id": "57ae7950",
   "metadata": {},
   "outputs": [
    {
     "data": {
      "text/plain": [
       "income_type\n",
       "безработный        366413.652744\n",
       "в декрете            3296.759962\n",
       "госслужащий          2689.368353\n",
       "компаньон            1547.382223\n",
       "пенсионер          365213.306266\n",
       "предприниматель       520.848083\n",
       "сотрудник            1574.202821\n",
       "студент               578.751554\n",
       "Name: days_employed, dtype: float64"
      ]
     },
     "execution_count": 17,
     "metadata": {},
     "output_type": "execute_result"
    }
   ],
   "source": [
    "data.groupby('income_type')['days_employed'].median()"
   ]
  },
  {
   "cell_type": "markdown",
   "id": "7c0bdac3",
   "metadata": {},
   "source": [
    "Two types (unemployed and pensioners) will have abnormally large values. It is difficult to correct such values, so I leave them as they are. Moreover, I will not need this column for my research."
   ]
  },
  {
   "cell_type": "markdown",
   "id": "0f9f4472",
   "metadata": {},
   "source": [
    "I output a list of unique values of the children column."
   ]
  },
  {
   "cell_type": "code",
   "execution_count": 18,
   "id": "fbb602cc",
   "metadata": {},
   "outputs": [
    {
     "data": {
      "text/plain": [
       "array([ 1,  0,  3,  2, -1,  4, 20,  5], dtype=int64)"
      ]
     },
     "execution_count": 18,
     "metadata": {},
     "output_type": "execute_result"
    }
   ],
   "source": [
    "data['children'].unique()"
   ]
  },
  {
   "cell_type": "markdown",
   "id": "8f30c50d",
   "metadata": {},
   "source": [
    "There are two abnormal values in the children column. I am going to delete the rows in which this abnormal values occur from the dataframe."
   ]
  },
  {
   "cell_type": "code",
   "execution_count": 21,
   "id": "05e7b6de",
   "metadata": {},
   "outputs": [],
   "source": [
    "data = data.drop(data[(data['children']==-1) | (data['children']==20)].index)"
   ]
  },
  {
   "cell_type": "code",
   "execution_count": 22,
   "id": "3f50b783",
   "metadata": {},
   "outputs": [
    {
     "data": {
      "text/plain": [
       "array([1, 0, 3, 2, 4, 5], dtype=int64)"
      ]
     },
     "execution_count": 22,
     "metadata": {},
     "output_type": "execute_result"
    }
   ],
   "source": [
    "data['children'].unique()"
   ]
  },
  {
   "cell_type": "markdown",
   "id": "b4226f22",
   "metadata": {},
   "source": [
    "I am going to fill in the gaps in the days_employed column with median values for each income_type employment type."
   ]
  },
  {
   "cell_type": "code",
   "execution_count": 24,
   "id": "87a3071a",
   "metadata": {},
   "outputs": [],
   "source": [
    "data['days_employed'] = data[\n",
    "    \n",
    "    'days_employed'\n",
    "\n",
    "].fillna(data.groupby([\n",
    "    \n",
    "    'income_type'])[\n",
    "    \n",
    "    'days_employed'].transform('median'))"
   ]
  },
  {
   "cell_type": "code",
   "execution_count": 25,
   "id": "8e8394ec",
   "metadata": {},
   "outputs": [
    {
     "data": {
      "text/plain": [
       "0          8437.673028\n",
       "1          4024.803754\n",
       "2          5623.422610\n",
       "3          4124.747207\n",
       "4        340266.072047\n",
       "             ...      \n",
       "21520      4529.316663\n",
       "21521    343937.404131\n",
       "21522      2113.346888\n",
       "21523      3112.481705\n",
       "21524      1984.507589\n",
       "Name: days_employed, Length: 21402, dtype: float64"
      ]
     },
     "execution_count": 25,
     "metadata": {},
     "output_type": "execute_result"
    }
   ],
   "source": [
    "data['days_employed']"
   ]
  },
  {
   "cell_type": "markdown",
   "id": "aa572042",
   "metadata": {},
   "source": [
    "I make sure that all the gaps are filled in, and check, and print the number of missing values for each column again using two methods."
   ]
  },
  {
   "cell_type": "code",
   "execution_count": 26,
   "id": "666b3bbb",
   "metadata": {},
   "outputs": [
    {
     "data": {
      "text/plain": [
       "children            0.0\n",
       "days_employed       0.0\n",
       "dob_years           0.0\n",
       "education           0.0\n",
       "education_id        0.0\n",
       "family_status       0.0\n",
       "family_status_id    0.0\n",
       "gender              0.0\n",
       "income_type         0.0\n",
       "debt                0.0\n",
       "total_income        0.0\n",
       "purpose             0.0\n",
       "dtype: float64"
      ]
     },
     "execution_count": 26,
     "metadata": {},
     "output_type": "execute_result"
    }
   ],
   "source": [
    "data.isna().mean()"
   ]
  },
  {
   "cell_type": "markdown",
   "id": "7b74c45d",
   "metadata": {},
   "source": [
    "I replace the real data type in the total_income column with an integer using the astype() method."
   ]
  },
  {
   "cell_type": "code",
   "execution_count": 27,
   "id": "a3c2f452",
   "metadata": {},
   "outputs": [],
   "source": [
    "data['total_income']=data['total_income'].astype('int')"
   ]
  },
  {
   "cell_type": "code",
   "execution_count": 28,
   "id": "a699dc66",
   "metadata": {},
   "outputs": [
    {
     "name": "stdout",
     "output_type": "stream",
     "text": [
      "<class 'pandas.core.frame.DataFrame'>\n",
      "Int64Index: 21402 entries, 0 to 21524\n",
      "Data columns (total 12 columns):\n",
      " #   Column            Non-Null Count  Dtype  \n",
      "---  ------            --------------  -----  \n",
      " 0   children          21402 non-null  int64  \n",
      " 1   days_employed     21402 non-null  float64\n",
      " 2   dob_years         21402 non-null  int64  \n",
      " 3   education         21402 non-null  object \n",
      " 4   education_id      21402 non-null  int64  \n",
      " 5   family_status     21402 non-null  object \n",
      " 6   family_status_id  21402 non-null  int64  \n",
      " 7   gender            21402 non-null  object \n",
      " 8   income_type       21402 non-null  object \n",
      " 9   debt              21402 non-null  int64  \n",
      " 10  total_income      21402 non-null  int32  \n",
      " 11  purpose           21402 non-null  object \n",
      "dtypes: float64(1), int32(1), int64(5), object(5)\n",
      "memory usage: 2.0+ MB\n"
     ]
    }
   ],
   "source": [
    "data.info()"
   ]
  },
  {
   "cell_type": "markdown",
   "id": "96b886f9",
   "metadata": {},
   "source": [
    "I handle implicit duplicates in the education column. In this column there are the same values, but written in different ways: using uppercase and lowercase letters.  I want them to be lowercase, and I check the other columns."
   ]
  },
  {
   "cell_type": "code",
   "execution_count": 29,
   "id": "d039bdc6",
   "metadata": {},
   "outputs": [],
   "source": [
    "data['education'] = data['education'].str.lower()"
   ]
  },
  {
   "cell_type": "code",
   "execution_count": 30,
   "id": "1f39cbf6",
   "metadata": {},
   "outputs": [
    {
     "data": {
      "text/plain": [
       "0         высшее\n",
       "1        среднее\n",
       "2        среднее\n",
       "3        среднее\n",
       "4        среднее\n",
       "          ...   \n",
       "21520    среднее\n",
       "21521    среднее\n",
       "21522    среднее\n",
       "21523    среднее\n",
       "21524    среднее\n",
       "Name: education, Length: 21402, dtype: object"
      ]
     },
     "execution_count": 30,
     "metadata": {},
     "output_type": "execute_result"
    }
   ],
   "source": [
    "data['education']"
   ]
  },
  {
   "cell_type": "markdown",
   "id": "c7306478",
   "metadata": {},
   "source": [
    "I display the number of duplicate rows in the data, and If such lines are present, I would like to delete them. "
   ]
  },
  {
   "cell_type": "code",
   "execution_count": 31,
   "id": "79a87f9c",
   "metadata": {},
   "outputs": [
    {
     "data": {
      "text/plain": [
       "71"
      ]
     },
     "execution_count": 31,
     "metadata": {},
     "output_type": "execute_result"
    }
   ],
   "source": [
    "data.duplicated().sum()"
   ]
  },
  {
   "cell_type": "code",
   "execution_count": 32,
   "id": "b43c28e1",
   "metadata": {},
   "outputs": [
    {
     "data": {
      "text/html": [
       "<div>\n",
       "<style scoped>\n",
       "    .dataframe tbody tr th:only-of-type {\n",
       "        vertical-align: middle;\n",
       "    }\n",
       "\n",
       "    .dataframe tbody tr th {\n",
       "        vertical-align: top;\n",
       "    }\n",
       "\n",
       "    .dataframe thead th {\n",
       "        text-align: right;\n",
       "    }\n",
       "</style>\n",
       "<table border=\"1\" class=\"dataframe\">\n",
       "  <thead>\n",
       "    <tr style=\"text-align: right;\">\n",
       "      <th></th>\n",
       "      <th>children</th>\n",
       "      <th>days_employed</th>\n",
       "      <th>dob_years</th>\n",
       "      <th>education</th>\n",
       "      <th>education_id</th>\n",
       "      <th>family_status</th>\n",
       "      <th>family_status_id</th>\n",
       "      <th>gender</th>\n",
       "      <th>income_type</th>\n",
       "      <th>debt</th>\n",
       "      <th>total_income</th>\n",
       "      <th>purpose</th>\n",
       "    </tr>\n",
       "  </thead>\n",
       "  <tbody>\n",
       "    <tr>\n",
       "      <th>0</th>\n",
       "      <td>1</td>\n",
       "      <td>8437.673028</td>\n",
       "      <td>42</td>\n",
       "      <td>высшее</td>\n",
       "      <td>0</td>\n",
       "      <td>женат / замужем</td>\n",
       "      <td>0</td>\n",
       "      <td>F</td>\n",
       "      <td>сотрудник</td>\n",
       "      <td>0</td>\n",
       "      <td>253875</td>\n",
       "      <td>покупка жилья</td>\n",
       "    </tr>\n",
       "    <tr>\n",
       "      <th>1</th>\n",
       "      <td>1</td>\n",
       "      <td>4024.803754</td>\n",
       "      <td>36</td>\n",
       "      <td>среднее</td>\n",
       "      <td>1</td>\n",
       "      <td>женат / замужем</td>\n",
       "      <td>0</td>\n",
       "      <td>F</td>\n",
       "      <td>сотрудник</td>\n",
       "      <td>0</td>\n",
       "      <td>112080</td>\n",
       "      <td>приобретение автомобиля</td>\n",
       "    </tr>\n",
       "    <tr>\n",
       "      <th>2</th>\n",
       "      <td>0</td>\n",
       "      <td>5623.422610</td>\n",
       "      <td>33</td>\n",
       "      <td>среднее</td>\n",
       "      <td>1</td>\n",
       "      <td>женат / замужем</td>\n",
       "      <td>0</td>\n",
       "      <td>M</td>\n",
       "      <td>сотрудник</td>\n",
       "      <td>0</td>\n",
       "      <td>145885</td>\n",
       "      <td>покупка жилья</td>\n",
       "    </tr>\n",
       "    <tr>\n",
       "      <th>3</th>\n",
       "      <td>3</td>\n",
       "      <td>4124.747207</td>\n",
       "      <td>32</td>\n",
       "      <td>среднее</td>\n",
       "      <td>1</td>\n",
       "      <td>женат / замужем</td>\n",
       "      <td>0</td>\n",
       "      <td>M</td>\n",
       "      <td>сотрудник</td>\n",
       "      <td>0</td>\n",
       "      <td>267628</td>\n",
       "      <td>дополнительное образование</td>\n",
       "    </tr>\n",
       "    <tr>\n",
       "      <th>4</th>\n",
       "      <td>0</td>\n",
       "      <td>340266.072047</td>\n",
       "      <td>53</td>\n",
       "      <td>среднее</td>\n",
       "      <td>1</td>\n",
       "      <td>гражданский брак</td>\n",
       "      <td>1</td>\n",
       "      <td>F</td>\n",
       "      <td>пенсионер</td>\n",
       "      <td>0</td>\n",
       "      <td>158616</td>\n",
       "      <td>сыграть свадьбу</td>\n",
       "    </tr>\n",
       "    <tr>\n",
       "      <th>...</th>\n",
       "      <td>...</td>\n",
       "      <td>...</td>\n",
       "      <td>...</td>\n",
       "      <td>...</td>\n",
       "      <td>...</td>\n",
       "      <td>...</td>\n",
       "      <td>...</td>\n",
       "      <td>...</td>\n",
       "      <td>...</td>\n",
       "      <td>...</td>\n",
       "      <td>...</td>\n",
       "      <td>...</td>\n",
       "    </tr>\n",
       "    <tr>\n",
       "      <th>21520</th>\n",
       "      <td>1</td>\n",
       "      <td>4529.316663</td>\n",
       "      <td>43</td>\n",
       "      <td>среднее</td>\n",
       "      <td>1</td>\n",
       "      <td>гражданский брак</td>\n",
       "      <td>1</td>\n",
       "      <td>F</td>\n",
       "      <td>компаньон</td>\n",
       "      <td>0</td>\n",
       "      <td>224791</td>\n",
       "      <td>операции с жильем</td>\n",
       "    </tr>\n",
       "    <tr>\n",
       "      <th>21521</th>\n",
       "      <td>0</td>\n",
       "      <td>343937.404131</td>\n",
       "      <td>67</td>\n",
       "      <td>среднее</td>\n",
       "      <td>1</td>\n",
       "      <td>женат / замужем</td>\n",
       "      <td>0</td>\n",
       "      <td>F</td>\n",
       "      <td>пенсионер</td>\n",
       "      <td>0</td>\n",
       "      <td>155999</td>\n",
       "      <td>сделка с автомобилем</td>\n",
       "    </tr>\n",
       "    <tr>\n",
       "      <th>21522</th>\n",
       "      <td>1</td>\n",
       "      <td>2113.346888</td>\n",
       "      <td>38</td>\n",
       "      <td>среднее</td>\n",
       "      <td>1</td>\n",
       "      <td>гражданский брак</td>\n",
       "      <td>1</td>\n",
       "      <td>M</td>\n",
       "      <td>сотрудник</td>\n",
       "      <td>1</td>\n",
       "      <td>89672</td>\n",
       "      <td>недвижимость</td>\n",
       "    </tr>\n",
       "    <tr>\n",
       "      <th>21523</th>\n",
       "      <td>3</td>\n",
       "      <td>3112.481705</td>\n",
       "      <td>38</td>\n",
       "      <td>среднее</td>\n",
       "      <td>1</td>\n",
       "      <td>женат / замужем</td>\n",
       "      <td>0</td>\n",
       "      <td>M</td>\n",
       "      <td>сотрудник</td>\n",
       "      <td>1</td>\n",
       "      <td>244093</td>\n",
       "      <td>на покупку своего автомобиля</td>\n",
       "    </tr>\n",
       "    <tr>\n",
       "      <th>21524</th>\n",
       "      <td>2</td>\n",
       "      <td>1984.507589</td>\n",
       "      <td>40</td>\n",
       "      <td>среднее</td>\n",
       "      <td>1</td>\n",
       "      <td>женат / замужем</td>\n",
       "      <td>0</td>\n",
       "      <td>F</td>\n",
       "      <td>сотрудник</td>\n",
       "      <td>0</td>\n",
       "      <td>82047</td>\n",
       "      <td>на покупку автомобиля</td>\n",
       "    </tr>\n",
       "  </tbody>\n",
       "</table>\n",
       "<p>21331 rows × 12 columns</p>\n",
       "</div>"
      ],
      "text/plain": [
       "       children  days_employed  dob_years education  education_id  \\\n",
       "0             1    8437.673028         42    высшее             0   \n",
       "1             1    4024.803754         36   среднее             1   \n",
       "2             0    5623.422610         33   среднее             1   \n",
       "3             3    4124.747207         32   среднее             1   \n",
       "4             0  340266.072047         53   среднее             1   \n",
       "...         ...            ...        ...       ...           ...   \n",
       "21520         1    4529.316663         43   среднее             1   \n",
       "21521         0  343937.404131         67   среднее             1   \n",
       "21522         1    2113.346888         38   среднее             1   \n",
       "21523         3    3112.481705         38   среднее             1   \n",
       "21524         2    1984.507589         40   среднее             1   \n",
       "\n",
       "          family_status  family_status_id gender income_type  debt  \\\n",
       "0       женат / замужем                 0      F   сотрудник     0   \n",
       "1       женат / замужем                 0      F   сотрудник     0   \n",
       "2       женат / замужем                 0      M   сотрудник     0   \n",
       "3       женат / замужем                 0      M   сотрудник     0   \n",
       "4      гражданский брак                 1      F   пенсионер     0   \n",
       "...                 ...               ...    ...         ...   ...   \n",
       "21520  гражданский брак                 1      F   компаньон     0   \n",
       "21521   женат / замужем                 0      F   пенсионер     0   \n",
       "21522  гражданский брак                 1      M   сотрудник     1   \n",
       "21523   женат / замужем                 0      M   сотрудник     1   \n",
       "21524   женат / замужем                 0      F   сотрудник     0   \n",
       "\n",
       "       total_income                       purpose  \n",
       "0            253875                 покупка жилья  \n",
       "1            112080       приобретение автомобиля  \n",
       "2            145885                 покупка жилья  \n",
       "3            267628    дополнительное образование  \n",
       "4            158616               сыграть свадьбу  \n",
       "...             ...                           ...  \n",
       "21520        224791             операции с жильем  \n",
       "21521        155999          сделка с автомобилем  \n",
       "21522         89672                  недвижимость  \n",
       "21523        244093  на покупку своего автомобиля  \n",
       "21524         82047         на покупку автомобиля  \n",
       "\n",
       "[21331 rows x 12 columns]"
      ]
     },
     "execution_count": 32,
     "metadata": {},
     "output_type": "execute_result"
    }
   ],
   "source": [
    "data.drop_duplicates()"
   ]
  },
  {
   "cell_type": "markdown",
   "id": "917e3e11",
   "metadata": {},
   "source": [
    "# Categorization of data"
   ]
  },
  {
   "cell_type": "markdown",
   "id": "db9e2da5",
   "metadata": {},
   "source": [
    "Based on the ranges specified below, I will create a total_income_category column with categories in the dataframe:\n",
    "\n",
    "·0–30000 — 'E'\n",
    "\n",
    "·30001–50000 — 'D'\n",
    "\n",
    "·50001–200000 — 'C'\n",
    "\n",
    "·200001–1000000 — 'B'\n",
    "\n",
    "·1000001 and more — 'A'\n",
    "\n",
    "For example, a borrower with an income of 25,000 needs to be assigned a category 'E', and a client receiving 235,000 needs to be assigned a category 'B'. I use my own function named categorize_income() and the apply() method."
   ]
  },
  {
   "cell_type": "code",
   "execution_count": 34,
   "id": "0ed01a3d",
   "metadata": {},
   "outputs": [],
   "source": [
    "income = data['total_income']\n",
    "\n",
    "def categorize_income(total_income):\n",
    "    \n",
    "    if total_income <= 30000:\n",
    "        \n",
    "        return 'E'\n",
    "    \n",
    "    elif total_income <= 50000:\n",
    "        \n",
    "        return 'D'\n",
    "    \n",
    "    elif total_income <= 200000:\n",
    "        \n",
    "        return 'C'\n",
    "    \n",
    "    elif total_income <= 1000000:\n",
    "        \n",
    "        return 'B'\n",
    "    \n",
    "    else:\n",
    "        \n",
    "        return 'A'\n"
   ]
  },
  {
   "cell_type": "code",
   "execution_count": 35,
   "id": "02811c49",
   "metadata": {},
   "outputs": [],
   "source": [
    "data['total_income_category'] = income.apply(categorize_income)"
   ]
  },
  {
   "cell_type": "markdown",
   "id": "c99d4407",
   "metadata": {},
   "source": [
    "I display a list of the unique purposes of taking a loan from the purpose column."
   ]
  },
  {
   "cell_type": "code",
   "execution_count": 36,
   "id": "a6f33dab",
   "metadata": {},
   "outputs": [
    {
     "data": {
      "text/plain": [
       "array(['покупка жилья', 'приобретение автомобиля',\n",
       "       'дополнительное образование', 'сыграть свадьбу',\n",
       "       'операции с жильем', 'образование', 'на проведение свадьбы',\n",
       "       'покупка жилья для семьи', 'покупка недвижимости',\n",
       "       'покупка коммерческой недвижимости', 'покупка жилой недвижимости',\n",
       "       'строительство собственной недвижимости', 'недвижимость',\n",
       "       'строительство недвижимости', 'на покупку подержанного автомобиля',\n",
       "       'на покупку своего автомобиля',\n",
       "       'операции с коммерческой недвижимостью',\n",
       "       'строительство жилой недвижимости', 'жилье',\n",
       "       'операции со своей недвижимостью', 'автомобили',\n",
       "       'заняться образованием', 'сделка с подержанным автомобилем',\n",
       "       'получение образования', 'автомобиль', 'свадьба',\n",
       "       'получение дополнительного образования', 'покупка своего жилья',\n",
       "       'операции с недвижимостью', 'получение высшего образования',\n",
       "       'свой автомобиль', 'сделка с автомобилем',\n",
       "       'профильное образование', 'высшее образование',\n",
       "       'покупка жилья для сдачи', 'на покупку автомобиля', 'ремонт жилью',\n",
       "       'заняться высшим образованием'], dtype=object)"
      ]
     },
     "execution_count": 36,
     "metadata": {},
     "output_type": "execute_result"
    }
   ],
   "source": [
    "data['purpose'].unique()"
   ]
  },
  {
   "cell_type": "markdown",
   "id": "368aecda",
   "metadata": {},
   "source": [
    "I create another function that, based on the data from the purpose column, will form a new purpose_category column, which will include the following categories:\n",
    "\n",
    "· 'car operations', 'real estate transactions', 'conducting a wedding', 'getting an education'\n",
    "\n",
    "I use my own function named categorize_purpose() and the apply() method."
   ]
  },
  {
   "cell_type": "code",
   "execution_count": 37,
   "id": "c1c5e6a4",
   "metadata": {},
   "outputs": [],
   "source": [
    "category = data['purpose']\n",
    "\n",
    "def categorize_purpose(category):\n",
    "    \n",
    "    if 'авто' in category:\n",
    "        \n",
    "        return 'car operations'\n",
    "    \n",
    "    elif 'жиль' in category or 'недвиж' in category :\n",
    "        \n",
    "        return 'real estate transactions' \n",
    "    \n",
    "    elif 'свадь' in category:\n",
    "        \n",
    "        return 'conducting a wedding'\n",
    "    \n",
    "    elif 'образ' in category:\n",
    "        \n",
    "        return 'getting an education'\n",
    "    \n",
    "    else:\n",
    "        \n",
    "        return 'no category' "
   ]
  },
  {
   "cell_type": "code",
   "execution_count": 38,
   "id": "e7e371ae",
   "metadata": {},
   "outputs": [],
   "source": [
    "data['purpose_category'] = category.apply(categorize_purpose)"
   ]
  },
  {
   "cell_type": "markdown",
   "id": "9ed1e6bd",
   "metadata": {},
   "source": [
    "# First hypothesis"
   ]
  },
  {
   "cell_type": "markdown",
   "id": "1a0213fe",
   "metadata": {},
   "source": [
    "Is there a relationship between the number of children and the repayment of the loan on time?"
   ]
  },
  {
   "cell_type": "code",
   "execution_count": 39,
   "id": "9385b6ca",
   "metadata": {},
   "outputs": [],
   "source": [
    "# We have created a pivot table for clarity of analysis\n",
    "\n",
    "children_debt = data.pivot_table(\n",
    "    \n",
    "    index=['children'], \n",
    "    columns='debt', \n",
    "    values='total_income', \n",
    "    aggfunc='count', \n",
    "    fill_value=0\n",
    "    \n",
    ") "
   ]
  },
  {
   "cell_type": "code",
   "execution_count": 40,
   "id": "b75d1be0",
   "metadata": {},
   "outputs": [
    {
     "data": {
      "text/html": [
       "<div>\n",
       "<style scoped>\n",
       "    .dataframe tbody tr th:only-of-type {\n",
       "        vertical-align: middle;\n",
       "    }\n",
       "\n",
       "    .dataframe tbody tr th {\n",
       "        vertical-align: top;\n",
       "    }\n",
       "\n",
       "    .dataframe thead th {\n",
       "        text-align: right;\n",
       "    }\n",
       "</style>\n",
       "<table border=\"1\" class=\"dataframe\">\n",
       "  <thead>\n",
       "    <tr style=\"text-align: right;\">\n",
       "      <th>debt</th>\n",
       "      <th>0</th>\n",
       "      <th>1</th>\n",
       "    </tr>\n",
       "    <tr>\n",
       "      <th>children</th>\n",
       "      <th></th>\n",
       "      <th></th>\n",
       "    </tr>\n",
       "  </thead>\n",
       "  <tbody>\n",
       "    <tr>\n",
       "      <th>0</th>\n",
       "      <td>13086</td>\n",
       "      <td>1063</td>\n",
       "    </tr>\n",
       "    <tr>\n",
       "      <th>1</th>\n",
       "      <td>4374</td>\n",
       "      <td>444</td>\n",
       "    </tr>\n",
       "    <tr>\n",
       "      <th>2</th>\n",
       "      <td>1861</td>\n",
       "      <td>194</td>\n",
       "    </tr>\n",
       "    <tr>\n",
       "      <th>3</th>\n",
       "      <td>303</td>\n",
       "      <td>27</td>\n",
       "    </tr>\n",
       "    <tr>\n",
       "      <th>4</th>\n",
       "      <td>37</td>\n",
       "      <td>4</td>\n",
       "    </tr>\n",
       "    <tr>\n",
       "      <th>5</th>\n",
       "      <td>9</td>\n",
       "      <td>0</td>\n",
       "    </tr>\n",
       "  </tbody>\n",
       "</table>\n",
       "</div>"
      ],
      "text/plain": [
       "debt          0     1\n",
       "children             \n",
       "0         13086  1063\n",
       "1          4374   444\n",
       "2          1861   194\n",
       "3           303    27\n",
       "4            37     4\n",
       "5             9     0"
      ]
     },
     "execution_count": 40,
     "metadata": {},
     "output_type": "execute_result"
    }
   ],
   "source": [
    "children_debt"
   ]
  },
  {
   "cell_type": "code",
   "execution_count": 41,
   "id": "a9311606",
   "metadata": {},
   "outputs": [],
   "source": [
    "# Conversion calculations\n",
    "\n",
    "children_debt['% no_debt'] = children_debt[0] / (children_debt[0] + children_debt[1]) * 100"
   ]
  },
  {
   "cell_type": "code",
   "execution_count": 42,
   "id": "8e55742a",
   "metadata": {},
   "outputs": [
    {
     "data": {
      "text/html": [
       "<div>\n",
       "<style scoped>\n",
       "    .dataframe tbody tr th:only-of-type {\n",
       "        vertical-align: middle;\n",
       "    }\n",
       "\n",
       "    .dataframe tbody tr th {\n",
       "        vertical-align: top;\n",
       "    }\n",
       "\n",
       "    .dataframe thead th {\n",
       "        text-align: right;\n",
       "    }\n",
       "</style>\n",
       "<table border=\"1\" class=\"dataframe\">\n",
       "  <thead>\n",
       "    <tr style=\"text-align: right;\">\n",
       "      <th>debt</th>\n",
       "      <th>0</th>\n",
       "      <th>1</th>\n",
       "      <th>% no_debt</th>\n",
       "    </tr>\n",
       "    <tr>\n",
       "      <th>children</th>\n",
       "      <th></th>\n",
       "      <th></th>\n",
       "      <th></th>\n",
       "    </tr>\n",
       "  </thead>\n",
       "  <tbody>\n",
       "    <tr>\n",
       "      <th>0</th>\n",
       "      <td>13086</td>\n",
       "      <td>1063</td>\n",
       "      <td>92.0</td>\n",
       "    </tr>\n",
       "    <tr>\n",
       "      <th>1</th>\n",
       "      <td>4374</td>\n",
       "      <td>444</td>\n",
       "      <td>91.0</td>\n",
       "    </tr>\n",
       "    <tr>\n",
       "      <th>2</th>\n",
       "      <td>1861</td>\n",
       "      <td>194</td>\n",
       "      <td>91.0</td>\n",
       "    </tr>\n",
       "    <tr>\n",
       "      <th>3</th>\n",
       "      <td>303</td>\n",
       "      <td>27</td>\n",
       "      <td>92.0</td>\n",
       "    </tr>\n",
       "    <tr>\n",
       "      <th>4</th>\n",
       "      <td>37</td>\n",
       "      <td>4</td>\n",
       "      <td>90.0</td>\n",
       "    </tr>\n",
       "    <tr>\n",
       "      <th>5</th>\n",
       "      <td>9</td>\n",
       "      <td>0</td>\n",
       "      <td>100.0</td>\n",
       "    </tr>\n",
       "  </tbody>\n",
       "</table>\n",
       "</div>"
      ],
      "text/plain": [
       "debt          0     1  % no_debt\n",
       "children                        \n",
       "0         13086  1063       92.0\n",
       "1          4374   444       91.0\n",
       "2          1861   194       91.0\n",
       "3           303    27       92.0\n",
       "4            37     4       90.0\n",
       "5             9     0      100.0"
      ]
     },
     "execution_count": 42,
     "metadata": {},
     "output_type": "execute_result"
    }
   ],
   "source": [
    "children_debt.round(decimals=0)"
   ]
  },
  {
   "cell_type": "markdown",
   "id": "7beac9dc",
   "metadata": {},
   "source": [
    "Conclusion: the data show that there is no relationship between debt and the number of children, but 10% of those who have debt have four children, which is 1% -2% higher than the rest of the categories.\n",
    "\n",
    "Within the framework of the available data, it is impossible to conclude that families with children relative to families without them have any delays in loan repayments. The shares are too close, the sample will change a little and the values ​​may change in the other direction. That is, we can conclude that there is no arbitrarily significant difference between the groups.\n",
    "\n",
    "But if we assume that any difference between groups is a reason for the \"separation\" of classes, then I would conclude that borrowers without children are more responsible than clients who have children. Apparently, the presence of a child imposes an additional financial burden (obligations) on the client, and clients either take their credit obligations less responsibly or are not able to pay their obligations on time.\n",
    "\n",
    "Please note that for some groups of borrowers we do not have enough data. It is said that the sample is not balanced, the classes in the sample have different sizes."
   ]
  },
  {
   "cell_type": "markdown",
   "id": "771d8e00",
   "metadata": {},
   "source": [
    "# Second hypothesis"
   ]
  },
  {
   "cell_type": "markdown",
   "id": "869decf4",
   "metadata": {},
   "source": [
    "Is there a relationship between marital status and loan repayment on time?"
   ]
  },
  {
   "cell_type": "code",
   "execution_count": 44,
   "id": "08d60233",
   "metadata": {},
   "outputs": [],
   "source": [
    "# We have created a pivot table for clarity of analysis\n",
    "\n",
    "status_debt = data.pivot_table(\n",
    "    \n",
    "    index=['family_status'], \n",
    "    \n",
    "    columns='debt', \n",
    "    \n",
    "    values='total_income', \n",
    "    \n",
    "    aggfunc='count', fill_value=0\n",
    "    \n",
    ")"
   ]
  },
  {
   "cell_type": "code",
   "execution_count": 45,
   "id": "d834e708",
   "metadata": {},
   "outputs": [
    {
     "data": {
      "text/html": [
       "<div>\n",
       "<style scoped>\n",
       "    .dataframe tbody tr th:only-of-type {\n",
       "        vertical-align: middle;\n",
       "    }\n",
       "\n",
       "    .dataframe tbody tr th {\n",
       "        vertical-align: top;\n",
       "    }\n",
       "\n",
       "    .dataframe thead th {\n",
       "        text-align: right;\n",
       "    }\n",
       "</style>\n",
       "<table border=\"1\" class=\"dataframe\">\n",
       "  <thead>\n",
       "    <tr style=\"text-align: right;\">\n",
       "      <th>debt</th>\n",
       "      <th>0</th>\n",
       "      <th>1</th>\n",
       "    </tr>\n",
       "    <tr>\n",
       "      <th>family_status</th>\n",
       "      <th></th>\n",
       "      <th></th>\n",
       "    </tr>\n",
       "  </thead>\n",
       "  <tbody>\n",
       "    <tr>\n",
       "      <th>Не женат / не замужем</th>\n",
       "      <td>2526</td>\n",
       "      <td>273</td>\n",
       "    </tr>\n",
       "    <tr>\n",
       "      <th>в разводе</th>\n",
       "      <td>1105</td>\n",
       "      <td>84</td>\n",
       "    </tr>\n",
       "    <tr>\n",
       "      <th>вдовец / вдова</th>\n",
       "      <td>889</td>\n",
       "      <td>63</td>\n",
       "    </tr>\n",
       "    <tr>\n",
       "      <th>гражданский брак</th>\n",
       "      <td>3775</td>\n",
       "      <td>385</td>\n",
       "    </tr>\n",
       "    <tr>\n",
       "      <th>женат / замужем</th>\n",
       "      <td>11375</td>\n",
       "      <td>927</td>\n",
       "    </tr>\n",
       "  </tbody>\n",
       "</table>\n",
       "</div>"
      ],
      "text/plain": [
       "debt                       0    1\n",
       "family_status                    \n",
       "Не женат / не замужем   2526  273\n",
       "в разводе               1105   84\n",
       "вдовец / вдова           889   63\n",
       "гражданский брак        3775  385\n",
       "женат / замужем        11375  927"
      ]
     },
     "execution_count": 45,
     "metadata": {},
     "output_type": "execute_result"
    }
   ],
   "source": [
    "status_debt"
   ]
  },
  {
   "cell_type": "code",
   "execution_count": 46,
   "id": "ae9b8bb7",
   "metadata": {},
   "outputs": [],
   "source": [
    "# Conversion calculations\n",
    "\n",
    "status_debt['% no_debt'] = status_debt[0] / (status_debt[0] + status_debt[1]) * 100\n"
   ]
  },
  {
   "cell_type": "code",
   "execution_count": 47,
   "id": "da9bebe7",
   "metadata": {},
   "outputs": [
    {
     "data": {
      "text/html": [
       "<div>\n",
       "<style scoped>\n",
       "    .dataframe tbody tr th:only-of-type {\n",
       "        vertical-align: middle;\n",
       "    }\n",
       "\n",
       "    .dataframe tbody tr th {\n",
       "        vertical-align: top;\n",
       "    }\n",
       "\n",
       "    .dataframe thead th {\n",
       "        text-align: right;\n",
       "    }\n",
       "</style>\n",
       "<table border=\"1\" class=\"dataframe\">\n",
       "  <thead>\n",
       "    <tr style=\"text-align: right;\">\n",
       "      <th>debt</th>\n",
       "      <th>0</th>\n",
       "      <th>1</th>\n",
       "      <th>% no_debt</th>\n",
       "    </tr>\n",
       "    <tr>\n",
       "      <th>family_status</th>\n",
       "      <th></th>\n",
       "      <th></th>\n",
       "      <th></th>\n",
       "    </tr>\n",
       "  </thead>\n",
       "  <tbody>\n",
       "    <tr>\n",
       "      <th>Не женат / не замужем</th>\n",
       "      <td>2526</td>\n",
       "      <td>273</td>\n",
       "      <td>90.0</td>\n",
       "    </tr>\n",
       "    <tr>\n",
       "      <th>в разводе</th>\n",
       "      <td>1105</td>\n",
       "      <td>84</td>\n",
       "      <td>93.0</td>\n",
       "    </tr>\n",
       "    <tr>\n",
       "      <th>вдовец / вдова</th>\n",
       "      <td>889</td>\n",
       "      <td>63</td>\n",
       "      <td>93.0</td>\n",
       "    </tr>\n",
       "    <tr>\n",
       "      <th>гражданский брак</th>\n",
       "      <td>3775</td>\n",
       "      <td>385</td>\n",
       "      <td>91.0</td>\n",
       "    </tr>\n",
       "    <tr>\n",
       "      <th>женат / замужем</th>\n",
       "      <td>11375</td>\n",
       "      <td>927</td>\n",
       "      <td>92.0</td>\n",
       "    </tr>\n",
       "  </tbody>\n",
       "</table>\n",
       "</div>"
      ],
      "text/plain": [
       "debt                       0    1  % no_debt\n",
       "family_status                               \n",
       "Не женат / не замужем   2526  273       90.0\n",
       "в разводе               1105   84       93.0\n",
       "вдовец / вдова           889   63       93.0\n",
       "гражданский брак        3775  385       91.0\n",
       "женат / замужем        11375  927       92.0"
      ]
     },
     "execution_count": 47,
     "metadata": {},
     "output_type": "execute_result"
    }
   ],
   "source": [
    "status_debt.round(decimals=0)"
   ]
  },
  {
   "cell_type": "markdown",
   "id": "2656d20c",
   "metadata": {},
   "source": [
    "Conclusion: data show that there is no relationship between debt and marital status, although 10% of those who have debt are not married, which is 1-3% higher than the rest of the categories.\n",
    "\n",
    "The credit department should be wary of clients who are not or have not been married. According to the data, such clients are less responsible. It turns out that legalized relationships lead to a more responsible attitude to their obligations. Well, it seems to coincide with common sense - family people more scrupulously take care of their family peace and are responsible for it."
   ]
  },
  {
   "cell_type": "markdown",
   "id": "1ca3c135",
   "metadata": {},
   "source": [
    "# Third hypothesis"
   ]
  },
  {
   "cell_type": "markdown",
   "id": "33afe456",
   "metadata": {},
   "source": [
    "Is there a relationship between income level and loan repayment on time?"
   ]
  },
  {
   "cell_type": "code",
   "execution_count": 49,
   "id": "d74cd4ac",
   "metadata": {},
   "outputs": [],
   "source": [
    "# We repeat the same operation again\n",
    "\n",
    "income_debt = data.pivot_table(\n",
    "    \n",
    "    index=['total_income_category'], \n",
    "    \n",
    "    columns='debt', \n",
    "    \n",
    "    values='total_income', \n",
    "    \n",
    "    aggfunc='count', \n",
    "    \n",
    "    fill_value=0\n",
    "    \n",
    ")\n"
   ]
  },
  {
   "cell_type": "code",
   "execution_count": 50,
   "id": "038d6459",
   "metadata": {},
   "outputs": [
    {
     "data": {
      "text/html": [
       "<div>\n",
       "<style scoped>\n",
       "    .dataframe tbody tr th:only-of-type {\n",
       "        vertical-align: middle;\n",
       "    }\n",
       "\n",
       "    .dataframe tbody tr th {\n",
       "        vertical-align: top;\n",
       "    }\n",
       "\n",
       "    .dataframe thead th {\n",
       "        text-align: right;\n",
       "    }\n",
       "</style>\n",
       "<table border=\"1\" class=\"dataframe\">\n",
       "  <thead>\n",
       "    <tr style=\"text-align: right;\">\n",
       "      <th>debt</th>\n",
       "      <th>0</th>\n",
       "      <th>1</th>\n",
       "    </tr>\n",
       "    <tr>\n",
       "      <th>total_income_category</th>\n",
       "      <th></th>\n",
       "      <th></th>\n",
       "    </tr>\n",
       "  </thead>\n",
       "  <tbody>\n",
       "    <tr>\n",
       "      <th>A</th>\n",
       "      <td>23</td>\n",
       "      <td>2</td>\n",
       "    </tr>\n",
       "    <tr>\n",
       "      <th>B</th>\n",
       "      <td>4660</td>\n",
       "      <td>354</td>\n",
       "    </tr>\n",
       "    <tr>\n",
       "      <th>C</th>\n",
       "      <td>14639</td>\n",
       "      <td>1353</td>\n",
       "    </tr>\n",
       "    <tr>\n",
       "      <th>D</th>\n",
       "      <td>328</td>\n",
       "      <td>21</td>\n",
       "    </tr>\n",
       "    <tr>\n",
       "      <th>E</th>\n",
       "      <td>20</td>\n",
       "      <td>2</td>\n",
       "    </tr>\n",
       "  </tbody>\n",
       "</table>\n",
       "</div>"
      ],
      "text/plain": [
       "debt                       0     1\n",
       "total_income_category             \n",
       "A                         23     2\n",
       "B                       4660   354\n",
       "C                      14639  1353\n",
       "D                        328    21\n",
       "E                         20     2"
      ]
     },
     "execution_count": 50,
     "metadata": {},
     "output_type": "execute_result"
    }
   ],
   "source": [
    "income_debt"
   ]
  },
  {
   "cell_type": "code",
   "execution_count": 51,
   "id": "696fb446",
   "metadata": {},
   "outputs": [],
   "source": [
    "income_debt['% no_debt'] = income_debt[0] / (income_debt[0] + income_debt[1]) * 100\n"
   ]
  },
  {
   "cell_type": "code",
   "execution_count": 52,
   "id": "b892ad62",
   "metadata": {},
   "outputs": [
    {
     "data": {
      "text/html": [
       "<div>\n",
       "<style scoped>\n",
       "    .dataframe tbody tr th:only-of-type {\n",
       "        vertical-align: middle;\n",
       "    }\n",
       "\n",
       "    .dataframe tbody tr th {\n",
       "        vertical-align: top;\n",
       "    }\n",
       "\n",
       "    .dataframe thead th {\n",
       "        text-align: right;\n",
       "    }\n",
       "</style>\n",
       "<table border=\"1\" class=\"dataframe\">\n",
       "  <thead>\n",
       "    <tr style=\"text-align: right;\">\n",
       "      <th>debt</th>\n",
       "      <th>0</th>\n",
       "      <th>1</th>\n",
       "      <th>% no_debt</th>\n",
       "    </tr>\n",
       "    <tr>\n",
       "      <th>total_income_category</th>\n",
       "      <th></th>\n",
       "      <th></th>\n",
       "      <th></th>\n",
       "    </tr>\n",
       "  </thead>\n",
       "  <tbody>\n",
       "    <tr>\n",
       "      <th>A</th>\n",
       "      <td>23</td>\n",
       "      <td>2</td>\n",
       "      <td>92.0</td>\n",
       "    </tr>\n",
       "    <tr>\n",
       "      <th>B</th>\n",
       "      <td>4660</td>\n",
       "      <td>354</td>\n",
       "      <td>93.0</td>\n",
       "    </tr>\n",
       "    <tr>\n",
       "      <th>C</th>\n",
       "      <td>14639</td>\n",
       "      <td>1353</td>\n",
       "      <td>92.0</td>\n",
       "    </tr>\n",
       "    <tr>\n",
       "      <th>D</th>\n",
       "      <td>328</td>\n",
       "      <td>21</td>\n",
       "      <td>94.0</td>\n",
       "    </tr>\n",
       "    <tr>\n",
       "      <th>E</th>\n",
       "      <td>20</td>\n",
       "      <td>2</td>\n",
       "      <td>91.0</td>\n",
       "    </tr>\n",
       "  </tbody>\n",
       "</table>\n",
       "</div>"
      ],
      "text/plain": [
       "debt                       0     1  % no_debt\n",
       "total_income_category                        \n",
       "A                         23     2       92.0\n",
       "B                       4660   354       93.0\n",
       "C                      14639  1353       92.0\n",
       "D                        328    21       94.0\n",
       "E                         20     2       91.0"
      ]
     },
     "execution_count": 52,
     "metadata": {},
     "output_type": "execute_result"
    }
   ],
   "source": [
    "income_debt.round(decimals=0)"
   ]
  },
  {
   "cell_type": "markdown",
   "id": "0725e1ad",
   "metadata": {},
   "source": [
    "Conclusion: the data show that there is no relationship between the level of income and the repayment of the loan on time. The group with the minimum share of debtors - \"D\" (conversion 94%), the group with the maximum share of debtors - \"E\" (conversion 91%).\n",
    "\n",
    "Based on common sense, it is logical to assume that most often the debtors are people with low incomes, for whom financial problems do not allow them to make payments on time. But looking at our results, the sample of borrowers, both with the lowest income and with the highest income, is extremely insufficient to form unambiguous conclusions. One might think that the E-category is the lowest paid, cannot properly manage money and \"gets\" into loans, but then it is not clear why the A-category also has a fairly high percentage of debt. In general, the conclusion for groups A and E is not obvious, there is not enough data.\n",
    "\n",
    "If, however, we take only groups B, C and D for analysis, then according to the data obtained, we do not observe the relationship \"those who receive more salary repay the loan better.\" In general, this is logical, since material wealth is not the only variable that affects quality of credit history.\n",
    "\n",
    "However, 2174 gaps in the data of the \"total_income\" column cast doubt on our result. A pivot table (or grouping) with data on the relationship between income and loan repayment on time might have looked different if it were not for the missing data."
   ]
  },
  {
   "cell_type": "markdown",
   "id": "0f6b90a5",
   "metadata": {},
   "source": [
    "# Fourth hypothesis"
   ]
  },
  {
   "cell_type": "code",
   "execution_count": 55,
   "id": "82433a96",
   "metadata": {},
   "outputs": [],
   "source": [
    "purpose_debt = data.pivot_table(\n",
    "    \n",
    "    index=['purpose_category'], \n",
    "    \n",
    "    columns='debt', \n",
    "    \n",
    "    values='total_income', \n",
    "    \n",
    "    aggfunc='count', \n",
    "    \n",
    "    fill_value=0\n",
    "    \n",
    ")"
   ]
  },
  {
   "cell_type": "code",
   "execution_count": 56,
   "id": "7daabc5a",
   "metadata": {},
   "outputs": [
    {
     "data": {
      "text/html": [
       "<div>\n",
       "<style scoped>\n",
       "    .dataframe tbody tr th:only-of-type {\n",
       "        vertical-align: middle;\n",
       "    }\n",
       "\n",
       "    .dataframe tbody tr th {\n",
       "        vertical-align: top;\n",
       "    }\n",
       "\n",
       "    .dataframe thead th {\n",
       "        text-align: right;\n",
       "    }\n",
       "</style>\n",
       "<table border=\"1\" class=\"dataframe\">\n",
       "  <thead>\n",
       "    <tr style=\"text-align: right;\">\n",
       "      <th>debt</th>\n",
       "      <th>0</th>\n",
       "      <th>1</th>\n",
       "    </tr>\n",
       "    <tr>\n",
       "      <th>purpose_category</th>\n",
       "      <th></th>\n",
       "      <th></th>\n",
       "    </tr>\n",
       "  </thead>\n",
       "  <tbody>\n",
       "    <tr>\n",
       "      <th>car operations</th>\n",
       "      <td>3888</td>\n",
       "      <td>400</td>\n",
       "    </tr>\n",
       "    <tr>\n",
       "      <th>conducting a wedding</th>\n",
       "      <td>2154</td>\n",
       "      <td>183</td>\n",
       "    </tr>\n",
       "    <tr>\n",
       "      <th>getting an education</th>\n",
       "      <td>3628</td>\n",
       "      <td>369</td>\n",
       "    </tr>\n",
       "    <tr>\n",
       "      <th>real estate transactions</th>\n",
       "      <td>10000</td>\n",
       "      <td>780</td>\n",
       "    </tr>\n",
       "  </tbody>\n",
       "</table>\n",
       "</div>"
      ],
      "text/plain": [
       "debt                          0    1\n",
       "purpose_category                    \n",
       "car operations             3888  400\n",
       "conducting a wedding       2154  183\n",
       "getting an education       3628  369\n",
       "real estate transactions  10000  780"
      ]
     },
     "execution_count": 56,
     "metadata": {},
     "output_type": "execute_result"
    }
   ],
   "source": [
    "purpose_debt"
   ]
  },
  {
   "cell_type": "code",
   "execution_count": 57,
   "id": "f4253b2b",
   "metadata": {},
   "outputs": [],
   "source": [
    "purpose_debt['% no_debt'] = purpose_debt[0] / (purpose_debt[0] + purpose_debt[1]) * 100"
   ]
  },
  {
   "cell_type": "code",
   "execution_count": 58,
   "id": "f02a705f",
   "metadata": {},
   "outputs": [
    {
     "data": {
      "text/html": [
       "<div>\n",
       "<style scoped>\n",
       "    .dataframe tbody tr th:only-of-type {\n",
       "        vertical-align: middle;\n",
       "    }\n",
       "\n",
       "    .dataframe tbody tr th {\n",
       "        vertical-align: top;\n",
       "    }\n",
       "\n",
       "    .dataframe thead th {\n",
       "        text-align: right;\n",
       "    }\n",
       "</style>\n",
       "<table border=\"1\" class=\"dataframe\">\n",
       "  <thead>\n",
       "    <tr style=\"text-align: right;\">\n",
       "      <th>debt</th>\n",
       "      <th>0</th>\n",
       "      <th>1</th>\n",
       "      <th>% no_debt</th>\n",
       "    </tr>\n",
       "    <tr>\n",
       "      <th>purpose_category</th>\n",
       "      <th></th>\n",
       "      <th></th>\n",
       "      <th></th>\n",
       "    </tr>\n",
       "  </thead>\n",
       "  <tbody>\n",
       "    <tr>\n",
       "      <th>car operations</th>\n",
       "      <td>3888</td>\n",
       "      <td>400</td>\n",
       "      <td>91.0</td>\n",
       "    </tr>\n",
       "    <tr>\n",
       "      <th>conducting a wedding</th>\n",
       "      <td>2154</td>\n",
       "      <td>183</td>\n",
       "      <td>92.0</td>\n",
       "    </tr>\n",
       "    <tr>\n",
       "      <th>getting an education</th>\n",
       "      <td>3628</td>\n",
       "      <td>369</td>\n",
       "      <td>91.0</td>\n",
       "    </tr>\n",
       "    <tr>\n",
       "      <th>real estate transactions</th>\n",
       "      <td>10000</td>\n",
       "      <td>780</td>\n",
       "      <td>93.0</td>\n",
       "    </tr>\n",
       "  </tbody>\n",
       "</table>\n",
       "</div>"
      ],
      "text/plain": [
       "debt                          0    1  % no_debt\n",
       "purpose_category                               \n",
       "car operations             3888  400       91.0\n",
       "conducting a wedding       2154  183       92.0\n",
       "getting an education       3628  369       91.0\n",
       "real estate transactions  10000  780       93.0"
      ]
     },
     "execution_count": 58,
     "metadata": {},
     "output_type": "execute_result"
    }
   ],
   "source": [
    "purpose_debt.round(decimals=0)"
   ]
  },
  {
   "cell_type": "markdown",
   "id": "5885f696",
   "metadata": {},
   "source": [
    "Conclusion: The data show that: the purpose of the loan does not affect the repayment of the loan on time. The group with the minimum share of debtors - real estate transactions (93% conversion), the group with the maximum share of debtors - car transactions (91% conversion)."
   ]
  },
  {
   "cell_type": "markdown",
   "id": "852d77cc",
   "metadata": {},
   "source": [
    "# General conclusion"
   ]
  },
  {
   "cell_type": "markdown",
   "id": "2025852a",
   "metadata": {},
   "source": [
    "As part of the developed study, the task was to oppose the following working hypotheses:\n",
    "\n",
    "1. There is a relationship between the number of children and the timely repayment of the loan.\n",
    "\n",
    "2. There is a relationship between marital status and loan repayment.\n",
    "\n",
    "3. There is a relationship between income and loan repayment.\n",
    "\n",
    "4. There is a relationship between the purpose of the loan and its return.\n",
    "\n",
    "In none of the above cases can we say that there is a relationship between the variables.\n",
    "\n",
    "Let's summarize the results they show for each category analyzed with numbers.\n",
    "\n",
    "1. Number of children and loan repayment:\n",
    "\n",
    "· In the group of the childless, the share of those whose debts are repaid on time is 92%.\n",
    "\n",
    "· Category with one and two children the percentage reaches 91 percent, indicating that they are more late in payment.\n",
    "\n",
    "· Among those who have 3 or more children, this figure is 92 and 90 percent, respectively. However, here we must pay attention to the fact that we do not have enough data to draw more reliable conclusions.\n",
    "\n",
    "Overall, more research is needed to reach firmer conclusions.\n",
    "\n",
    "2. Marital status and loan repayment:\n",
    "\n",
    "· The percentage of single people with debts is 10%, which is 1-3% more than in other groups. In this sense, we can say that this group of people is more likely to become debtors.\n",
    "\n",
    "· The group of divorced and widowed people, on the contrary, pays the debts on time most of all - 93%. It is followed by the married categories with 91 and 92 percent who are less likely to be in debt.\n",
    "\n",
    "3. Income level and loan repayment:\n",
    "\n",
    "· The percentage of debtors in categories B (50,001 to 200,000) and C (200,001 to 1,000,000) is 7 and 8 percent, respectively, which is low when other analyzed variables are taken into account. People with average income generally pay their debts on time.\n",
    "\n",
    "A more accurate analysis of the relationship of these variables will require more data for categories A (from 1,000,001), D (from 30,001 to 50,000) and E (up to 30,000).\n",
    "\n",
    "4. Purpose of the loan and repayment of the loan:\n",
    "\n",
    "· Those who use credit for real estate purposes account for 7% of debtors.\n",
    "\n",
    "· Those who use the loan to hold a wedding, they account for 8% of debtors.\n",
    "\n",
    "· Those who use credit to buy a car account for 9% of debtors, as well as those who use it for education.\n",
    "\n",
    "There is a difference of 2% of debtors between points 1 and 3, which means that the group of those who apply for a loan to buy a car and receive a diploma is more risky for the company providing the loan.\n",
    "\n",
    "As a conclusion, points two and four are what the loan company can use the most. In other cases, more data needs to be collected to make better recommendations."
   ]
  }
 ],
 "metadata": {
  "kernelspec": {
   "display_name": "Python 3 (ipykernel)",
   "language": "python",
   "name": "python3"
  },
  "language_info": {
   "codemirror_mode": {
    "name": "ipython",
    "version": 3
   },
   "file_extension": ".py",
   "mimetype": "text/x-python",
   "name": "python",
   "nbconvert_exporter": "python",
   "pygments_lexer": "ipython3",
   "version": "3.9.7"
  }
 },
 "nbformat": 4,
 "nbformat_minor": 5
}
